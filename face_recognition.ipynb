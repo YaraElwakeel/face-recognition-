{
  "cells": [
    {
      "cell_type": "code",
      "execution_count": null,
      "metadata": {
        "colab": {
          "base_uri": "https://localhost:8080/"
        },
        "id": "JAs6gECwD7UU",
        "outputId": "bae1879a-160d-4bab-fa96-da4808e20c39"
      },
      "outputs": [
        {
          "output_type": "stream",
          "name": "stdout",
          "text": [
            "Mounted at /content/drive\n"
          ]
        }
      ],
      "source": [
        "from google.colab import drive\n",
        "drive.mount('/content/drive')"
      ]
    },
    {
      "cell_type": "code",
      "execution_count": null,
      "metadata": {
        "colab": {
          "base_uri": "https://localhost:8080/"
        },
        "id": "NqVVk_dhEZNK",
        "outputId": "e081f3cd-28fd-4dea-e2ab-278c4fedfc92"
      },
      "outputs": [
        {
          "output_type": "stream",
          "name": "stdout",
          "text": [
            "['s1/1.pgm', 's1/10.pgm', 's1/2.pgm', 's1/3.pgm', 's1/4.pgm', 's1/5.pgm', 's1/6.pgm', 's1/7.pgm', 's1/8.pgm', 's1/9.pgm', 's10/1.pgm', 's10/10.pgm', 's10/2.pgm', 's10/3.pgm', 's10/4.pgm', 's10/5.pgm', 's10/6.pgm', 's10/7.pgm', 's10/8.pgm', 's10/9.pgm', 's11/1.pgm', 's11/10.pgm', 's11/2.pgm', 's11/3.pgm', 's11/4.pgm', 's11/5.pgm', 's11/6.pgm', 's11/7.pgm', 's11/8.pgm', 's11/9.pgm', 's12/1.pgm', 's12/10.pgm', 's12/2.pgm', 's12/3.pgm', 's12/4.pgm', 's12/5.pgm', 's12/6.pgm', 's12/7.pgm', 's12/8.pgm', 's12/9.pgm', 's13/1.pgm', 's13/10.pgm', 's13/2.pgm', 's13/3.pgm', 's13/4.pgm', 's13/5.pgm', 's13/6.pgm', 's13/7.pgm', 's13/8.pgm', 's13/9.pgm', 's14/1.pgm', 's14/10.pgm', 's14/2.pgm', 's14/3.pgm', 's14/4.pgm', 's14/5.pgm', 's14/6.pgm', 's14/7.pgm', 's14/8.pgm', 's14/9.pgm', 's15/1.pgm', 's15/10.pgm', 's15/2.pgm', 's15/3.pgm', 's15/4.pgm', 's15/5.pgm', 's15/6.pgm', 's15/7.pgm', 's15/8.pgm', 's15/9.pgm', 's16/1.pgm', 's16/10.pgm', 's16/2.pgm', 's16/3.pgm', 's16/4.pgm', 's16/5.pgm', 's16/6.pgm', 's16/7.pgm', 's16/8.pgm', 's16/9.pgm', 's17/1.pgm', 's17/10.pgm', 's17/2.pgm', 's17/3.pgm', 's17/4.pgm', 's17/5.pgm', 's17/6.pgm', 's17/7.pgm', 's17/8.pgm', 's17/9.pgm', 's18/1.pgm', 's18/10.pgm', 's18/2.pgm', 's18/3.pgm', 's18/4.pgm', 's18/5.pgm', 's18/6.pgm', 's18/7.pgm', 's18/8.pgm', 's18/9.pgm', 's19/1.pgm', 's19/10.pgm', 's19/2.pgm', 's19/3.pgm', 's19/4.pgm', 's19/5.pgm', 's19/6.pgm', 's19/7.pgm', 's19/8.pgm', 's19/9.pgm', 's2/1.pgm', 's2/10.pgm', 's2/2.pgm', 's2/3.pgm', 's2/4.pgm', 's2/5.pgm', 's2/6.pgm', 's2/7.pgm', 's2/8.pgm', 's2/9.pgm', 's20/1.pgm', 's20/10.pgm', 's20/2.pgm', 's20/3.pgm', 's20/4.pgm', 's20/5.pgm', 's20/6.pgm', 's20/7.pgm', 's20/8.pgm', 's20/9.pgm', 's21/1.pgm', 's21/10.pgm', 's21/2.pgm', 's21/3.pgm', 's21/4.pgm', 's21/5.pgm', 's21/6.pgm', 's21/7.pgm', 's21/8.pgm', 's21/9.pgm', 's22/1.pgm', 's22/10.pgm', 's22/2.pgm', 's22/3.pgm', 's22/4.pgm', 's22/5.pgm', 's22/6.pgm', 's22/7.pgm', 's22/8.pgm', 's22/9.pgm', 's23/1.pgm', 's23/10.pgm', 's23/2.pgm', 's23/3.pgm', 's23/4.pgm', 's23/5.pgm', 's23/6.pgm', 's23/7.pgm', 's23/8.pgm', 's23/9.pgm', 's24/1.pgm', 's24/10.pgm', 's24/2.pgm', 's24/3.pgm', 's24/4.pgm', 's24/5.pgm', 's24/6.pgm', 's24/7.pgm', 's24/8.pgm', 's24/9.pgm', 's25/1.pgm', 's25/10.pgm', 's25/2.pgm', 's25/3.pgm', 's25/4.pgm', 's25/5.pgm', 's25/6.pgm', 's25/7.pgm', 's25/8.pgm', 's25/9.pgm', 's26/1.pgm', 's26/10.pgm', 's26/2.pgm', 's26/3.pgm', 's26/4.pgm', 's26/5.pgm', 's26/6.pgm', 's26/7.pgm', 's26/8.pgm', 's26/9.pgm', 's27/1.pgm', 's27/10.pgm', 's27/2.pgm', 's27/3.pgm', 's27/4.pgm', 's27/5.pgm', 's27/6.pgm', 's27/7.pgm', 's27/8.pgm', 's27/9.pgm', 's28/1.pgm', 's28/10.pgm', 's28/2.pgm', 's28/3.pgm', 's28/4.pgm', 's28/5.pgm', 's28/6.pgm', 's28/7.pgm', 's28/8.pgm', 's28/9.pgm', 's29/1.pgm', 's29/10.pgm', 's29/2.pgm', 's29/3.pgm', 's29/4.pgm', 's29/5.pgm', 's29/6.pgm', 's29/7.pgm', 's29/8.pgm', 's29/9.pgm', 's3/1.pgm', 's3/10.pgm', 's3/2.pgm', 's3/3.pgm', 's3/4.pgm', 's3/5.pgm', 's3/6.pgm', 's3/7.pgm', 's3/8.pgm', 's3/9.pgm', 's30/1.pgm', 's30/10.pgm', 's30/2.pgm', 's30/3.pgm', 's30/4.pgm', 's30/5.pgm', 's30/6.pgm', 's30/7.pgm', 's30/8.pgm', 's30/9.pgm', 's31/1.pgm', 's31/10.pgm', 's31/2.pgm', 's31/3.pgm', 's31/4.pgm', 's31/5.pgm', 's31/6.pgm', 's31/7.pgm', 's31/8.pgm', 's31/9.pgm', 's32/1.pgm', 's32/10.pgm', 's32/2.pgm', 's32/3.pgm', 's32/4.pgm', 's32/5.pgm', 's32/6.pgm', 's32/7.pgm', 's32/8.pgm', 's32/9.pgm', 's33/1.pgm', 's33/10.pgm', 's33/2.pgm', 's33/3.pgm', 's33/4.pgm', 's33/5.pgm', 's33/6.pgm', 's33/7.pgm', 's33/8.pgm', 's33/9.pgm', 's34/1.pgm', 's34/10.pgm', 's34/2.pgm', 's34/3.pgm', 's34/4.pgm', 's34/5.pgm', 's34/6.pgm', 's34/7.pgm', 's34/8.pgm', 's34/9.pgm', 's35/1.pgm', 's35/10.pgm', 's35/2.pgm', 's35/3.pgm', 's35/4.pgm', 's35/5.pgm', 's35/6.pgm', 's35/7.pgm', 's35/8.pgm', 's35/9.pgm', 's36/1.pgm', 's36/10.pgm', 's36/2.pgm', 's36/3.pgm', 's36/4.pgm', 's36/5.pgm', 's36/6.pgm', 's36/7.pgm', 's36/8.pgm', 's36/9.pgm', 's37/1.pgm', 's37/10.pgm', 's37/2.pgm', 's37/3.pgm', 's37/4.pgm', 's37/5.pgm', 's37/6.pgm', 's37/7.pgm', 's37/8.pgm', 's37/9.pgm', 's38/1.pgm', 's38/10.pgm', 's38/2.pgm', 's38/3.pgm', 's38/4.pgm', 's38/5.pgm', 's38/6.pgm', 's38/7.pgm', 's38/8.pgm', 's38/9.pgm', 's39/1.pgm', 's39/10.pgm', 's39/2.pgm', 's39/3.pgm', 's39/4.pgm', 's39/5.pgm', 's39/6.pgm', 's39/7.pgm', 's39/8.pgm', 's39/9.pgm', 's4/1.pgm', 's4/10.pgm', 's4/2.pgm', 's4/3.pgm', 's4/4.pgm', 's4/5.pgm', 's4/6.pgm', 's4/7.pgm', 's4/8.pgm', 's4/9.pgm', 's40/1.pgm', 's40/10.pgm', 's40/2.pgm', 's40/3.pgm', 's40/4.pgm', 's40/5.pgm', 's40/6.pgm', 's40/7.pgm', 's40/8.pgm', 's40/9.pgm', 's5/1.pgm', 's5/10.pgm', 's5/2.pgm', 's5/3.pgm', 's5/4.pgm', 's5/5.pgm', 's5/6.pgm', 's5/7.pgm', 's5/8.pgm', 's5/9.pgm', 's6/1.pgm', 's6/10.pgm', 's6/2.pgm', 's6/3.pgm', 's6/4.pgm', 's6/5.pgm', 's6/6.pgm', 's6/7.pgm', 's6/8.pgm', 's6/9.pgm', 's7/1.pgm', 's7/10.pgm', 's7/2.pgm', 's7/3.pgm', 's7/4.pgm', 's7/5.pgm', 's7/6.pgm', 's7/7.pgm', 's7/8.pgm', 's7/9.pgm', 's8/1.pgm', 's8/10.pgm', 's8/2.pgm', 's8/3.pgm', 's8/4.pgm', 's8/5.pgm', 's8/6.pgm', 's8/7.pgm', 's8/8.pgm', 's8/9.pgm', 's9/1.pgm', 's9/10.pgm', 's9/2.pgm', 's9/3.pgm', 's9/4.pgm', 's9/5.pgm', 's9/6.pgm', 's9/7.pgm', 's9/8.pgm', 's9/9.pgm']\n"
          ]
        }
      ],
      "source": [
        "import zipfile\n",
        "\n",
        "zip_read=zipfile.ZipFile('/content/drive/MyDrive/archive.zip',mode='r')\n",
        "name = zip_read.namelist()\n",
        "pgm_imgs=name[1:]\n",
        "print(pgm_imgs)"
      ]
    },
    {
      "cell_type": "markdown",
      "metadata": {
        "id": "bBpF6UG3iJl_"
      },
      "source": [
        " **create a matrix that contains all the images pixels flattened**"
      ]
    },
    {
      "cell_type": "code",
      "execution_count": null,
      "metadata": {
        "colab": {
          "base_uri": "https://localhost:8080/"
        },
        "id": "rjr4k1Y_KCrF",
        "outputId": "41e32664-03bc-4110-f72e-95899b0dd591"
      },
      "outputs": [
        {
          "output_type": "stream",
          "name": "stdout",
          "text": [
            "data matrix shape: (400, 10304)\n",
            "Labels shape: (400,)\n"
          ]
        }
      ],
      "source": [
        "from PIL import Image\n",
        "import numpy as np\n",
        "data_matrix = np.empty((0,10304), int)\n",
        "for pgm_img in pgm_imgs:\n",
        "  myfile = zip_read.open(pgm_img)\n",
        "  img=Image.open(myfile)\n",
        "  image_sequence = img.getdata()\n",
        "  image_array = np.array(image_sequence)\n",
        "  data_matrix = np.vstack([data_matrix,image_array])\n",
        "\n",
        "data_matrix = data_matrix.astype(np.int8)\n",
        "print('data matrix shape:',data_matrix.shape)\n",
        "labels=np.repeat(np.arange(1,41),10)\n",
        "print('Labels shape:',labels.shape)"
      ]
    },
    {
      "cell_type": "code",
      "execution_count": null,
      "metadata": {
        "id": "1TRiZGROqj0w"
      },
      "outputs": [],
      "source": [
        "from sklearn.preprocessing import normalize\n",
        "data_matrix=normalize(data_matrix)"
      ]
    },
    {
      "cell_type": "markdown",
      "metadata": {
        "id": "QwkP8uvSkEfo"
      },
      "source": [
        "**Split data into two parts (train and test)**\n",
        "\n",
        "*   first case -> 50% 50%\n",
        "*  second case -> 70% 30%\n",
        "\n"
      ]
    },
    {
      "cell_type": "code",
      "execution_count": null,
      "metadata": {
        "colab": {
          "base_uri": "https://localhost:8080/"
        },
        "id": "5PZifQPKl1nO",
        "outputId": "d3234428-5e1e-4bfe-abe0-b6d760433ad6"
      },
      "outputs": [
        {
          "output_type": "stream",
          "name": "stdout",
          "text": [
            "50% split train data shape (200, 10304)\n",
            "(40, 10, 10304)\n",
            "70% split train data shape: (280, 10304) (280,)\n",
            "30% split test data shape: (120, 10304) (120,)\n"
          ]
        }
      ],
      "source": [
        "# first case splitting 50% 50%\n",
        "train_data1,test_data1=data_matrix[::2],data_matrix[1::2]\n",
        "train_label1=test_label1=labels[::2]\n",
        "print(\"50% split train data shape\",train_data1.shape)\n",
        "\n",
        "\n",
        "# second case splitting 70% 30%\n",
        "train_data2=test_data2=np.empty((0,10304), int)\n",
        "train_label2=test_label2=np.empty((0,1), int)\n",
        "\n",
        "data=np.array(np.split(data_matrix, len(data_matrix)/10))\n",
        "print(data.shape)\n",
        "\n",
        "i=0\n",
        "for insatance in data:\n",
        "  i=i+1 ya\n",
        "  train_data2,train_label2=np.vstack([train_data2,insatance[:7:]]),np.append(train_label2,[i]*7)\n",
        "  test_data2,test_label2=np.vstack([test_data2,insatance[7::]]),np.append(test_label2,[i]*3)\n",
        "print(\"70% split train data shape:\", train_data2.shape,train_label2.shape)\n",
        "print(\"30% split test data shape:\",test_data2.shape,test_label2.shape)"
      ]
    },
    {
      "cell_type": "markdown",
      "metadata": {
        "id": "f4u-7y5HpvCl"
      },
      "source": [
        "**compute Covariance matrix**"
      ]
    },
    {
      "cell_type": "code",
      "execution_count": null,
      "metadata": {
        "colab": {
          "base_uri": "https://localhost:8080/"
        },
        "id": "HYd82Od_Kr1f",
        "outputId": "2557704f-7f61-44fd-e892-03decba948f2"
      },
      "outputs": [
        {
          "output_type": "stream",
          "name": "stdout",
          "text": [
            "(10304,)\n",
            "(10304,)\n",
            "<class 'numpy.ndarray'>\n",
            "[[5.13890841e-05 3.76669474e-05 3.67730421e-05 ... 2.06129918e-06\n",
            "  2.14176255e-06 1.27376686e-06]\n",
            " [3.76669474e-05 4.74717076e-05 4.34697329e-05 ... 2.29648620e-06\n",
            "  2.07087806e-06 1.20675664e-06]\n",
            " [3.67730421e-05 4.34697329e-05 4.77145986e-05 ... 2.07373573e-06\n",
            "  1.79830552e-06 7.65149217e-07]\n",
            " ...\n",
            " [2.06129918e-06 2.29648620e-06 2.07373573e-06 ... 4.85176631e-05\n",
            "  3.41523279e-05 2.51225857e-05]\n",
            " [2.14176255e-06 2.07087806e-06 1.79830552e-06 ... 3.41523279e-05\n",
            "  4.41901382e-05 3.03323690e-05]\n",
            " [1.27376686e-06 1.20675664e-06 7.65149217e-07 ... 2.51225857e-05\n",
            "  3.03323690e-05 4.23902732e-05]]\n",
            "[-3.70636246e-17 -3.46857551e-17 -2.88472504e-17 ...  3.07124345e-02\n",
            "  5.32513974e-02  7.86805991e-02]\n",
            "(10304,)\n",
            "(10304,)\n",
            "<class 'numpy.ndarray'>\n",
            "[[5.26523321e-05 3.69814755e-05 3.65715898e-05 ... 2.45510874e-06\n",
            "  3.05261849e-06 2.63168951e-06]\n",
            " [3.69814755e-05 4.59034515e-05 4.25076914e-05 ... 4.27289260e-06\n",
            "  4.48762130e-06 3.89993538e-06]\n",
            " [3.65715898e-05 4.25076914e-05 4.57996655e-05 ... 3.83182475e-06\n",
            "  4.12475638e-06 3.39181186e-06]\n",
            " ...\n",
            " [2.45510874e-06 4.27289260e-06 3.83182475e-06 ... 4.67403981e-05\n",
            "  3.15762641e-05 2.14113087e-05]\n",
            " [3.05261849e-06 4.48762130e-06 4.12475638e-06 ... 3.15762641e-05\n",
            "  4.28083661e-05 2.86872062e-05]\n",
            " [2.63168951e-06 3.89993538e-06 3.39181186e-06 ... 2.14113087e-05\n",
            "  2.86872062e-05 3.93504326e-05]]\n",
            "[-3.35535439e-17 -3.10521546e-17 -2.47340703e-17 ...  2.93267951e-02\n",
            "  5.05747521e-02  8.01700359e-02]\n"
          ]
        }
      ],
      "source": [
        "def Evaluate_CovMatrix(train_data,test_data):\n",
        "  train_mean = np.mean(train_data,axis=0)\n",
        "  print(train_mean.shape)\n",
        "  train_centered=train_data-train_mean\n",
        "  test_mean = np.mean(test_data,axis=0)\n",
        "  print(test_mean.shape)\n",
        "  test_centered=test_data-test_mean\n",
        "  print(type(test_centered[0]))\n",
        "  Cov_matrix=np.cov(train_centered, rowvar=False, bias=True)\n",
        "  print(Cov_matrix)\n",
        "  eignvalues,eignvectors=np.linalg.eigh(Cov_matrix)\n",
        "  print(eignvalues)\n",
        "  return Cov_matrix,eignvalues,eignvectors,train_centered,test_centered\n",
        "#covariance matrix for case 1\n",
        "Cov_matrix1,eignvalues1,eignvectors1,train_centered1,test_centered1=Evaluate_CovMatrix(train_data1,test_data1)\n",
        "#covariance matrix for case 2\n",
        "Cov_matrix2,eignvalues2,eignvectors2,train_centered2,test_centered2=Evaluate_CovMatrix(train_data2,test_data2)"
      ]
    },
    {
      "cell_type": "code",
      "execution_count": null,
      "metadata": {
        "id": "8X4U7AaBaY9M"
      },
      "outputs": [],
      "source": [
        "def sort(eignvalues,eignvectors):\n",
        "  sortedindeces= np.argsort(eignvalues)\n",
        "  sorted_eignvectors=eignvectors[:,sortedindeces]\n",
        "  sorted_eignvalues=np.sort(eignvalues)\n",
        "  sum_eignvalues=np.sum(sorted_eignvalues)\n",
        "  return sum_eignvalues,sorted_eignvalues,sorted_eignvectors"
      ]
    },
    {
      "cell_type": "code",
      "execution_count": null,
      "metadata": {
        "id": "3ZZaDzFOaZEW"
      },
      "outputs": [],
      "source": [
        "def PCA(alpha,sorted_eignvalues,sum_eignvalues):\n",
        "  accumulated_eignvalues=0\n",
        "  for eignvalue in sorted_eignvalues:\n",
        "    accumulated_eignvalues=accumulated_eignvalues+eignvalue\n",
        "    fraction_totall_variance=accumulated_eignvalues/sum_eignvalues\n",
        "    if fraction_totall_variance >= float(alpha):\n",
        "      print(\"fraction totall variance:\",fraction_totall_variance)\n",
        "      index=int(np.where(sorted_eignvalues==eignvalue)[0])\n",
        "      break\n",
        "  return index;"
      ]
    },
    {
      "cell_type": "code",
      "execution_count": null,
      "metadata": {
        "colab": {
          "base_uri": "https://localhost:8080/"
        },
        "id": "vcF_7c2F2xrJ",
        "outputId": "d4f19e23-8a2e-422d-e604-5e9543557553"
      },
      "outputs": [
        {
          "output_type": "stream",
          "name": "stdout",
          "text": [
            "sum of 50% eignvalues 0.8135703790016711\n",
            "sum of 70% eignvalues 0.8149609509551751\n"
          ]
        }
      ],
      "source": [
        "sum_eignvalues1,sorted_eignvalues1,sorted_eignvectors1=sort(eignvalues1,eignvectors1)\n",
        "print('sum of 50% eignvalues',sum_eignvalues1)\n",
        "sum_eignvalues2,sorted_eignvalues2,sorted_eignvectors2=sort(eignvalues2,eignvectors2)\n",
        "print('sum of 70% eignvalues',sum_eignvalues2)"
      ]
    },
    {
      "cell_type": "code",
      "execution_count": null,
      "metadata": {
        "id": "uwoO-mpdajoJ"
      },
      "outputs": [],
      "source": [
        "def compute_EV(sorted_eignvalues,sum_eignvalues,sorted_eignvectors):\n",
        "  alpha1_dim=PCA(0.8,sorted_eignvalues,sum_eignvalues)\n",
        "  print(\"reduecd alpha 1 dimensions:\",alpha1_dim)\n",
        "  alpha1_EV=sorted_eignvectors[:,0:alpha1_dim]\n",
        "\n",
        "  alpha2_dim=PCA(0.85,sorted_eignvalues,sum_eignvalues)\n",
        "  print(\"reduecd alpha 2 dimensions:\",alpha2_dim)\n",
        "  alpha2_EV=sorted_eignvectors[:,0:alpha2_dim]\n",
        "\n",
        "  alpha3_dim=PCA(0.9,sorted_eignvalues,sum_eignvalues)\n",
        "  print(\"reduecd alpha 3 dimensions:\",alpha3_dim)\n",
        "  alpha3_EV=sorted_eignvectors[:,0:alpha3_dim]\n",
        "\n",
        "  alpha4_dim=PCA(0.95,sorted_eignvalues,sum_eignvalues)\n",
        "  print(\"reduecd alpha 4 dimensions:\",alpha4_dim)\n",
        "  alpha4_EV=sorted_eignvectors[:,0:alpha4_dim]\n",
        "  return alpha1_EV,alpha2_EV,alpha3_EV,alpha4_EV"
      ]
    },
    {
      "cell_type": "code",
      "execution_count": null,
      "metadata": {
        "colab": {
          "base_uri": "https://localhost:8080/"
        },
        "id": "aGjPtV5r1ts7",
        "outputId": "51a558c0-f298-449a-9ca4-a9decf6fef52"
      },
      "outputs": [
        {
          "output_type": "stream",
          "name": "stdout",
          "text": [
            "case 1 50% split\n",
            "fraction totall variance: 0.8000856039046551\n",
            "reduecd alpha 1 dimensions: 10300\n",
            "fraction totall variance: 0.9032897446317778\n",
            "reduecd alpha 2 dimensions: 10302\n",
            "fraction totall variance: 0.9032897446317778\n",
            "reduecd alpha 3 dimensions: 10302\n",
            "fraction totall variance: 1.0\n",
            "reduecd alpha 4 dimensions: 10303\n",
            "\n",
            "case 2 70% 30% split\n",
            "fraction totall variance: 0.8035837387578986\n",
            "reduecd alpha 1 dimensions: 10300\n",
            "fraction totall variance: 0.9016271444559066\n",
            "reduecd alpha 2 dimensions: 10302\n",
            "fraction totall variance: 0.9016271444559066\n",
            "reduecd alpha 3 dimensions: 10302\n",
            "fraction totall variance: 1.0000000000000002\n",
            "reduecd alpha 4 dimensions: 10303\n"
          ]
        }
      ],
      "source": [
        "print(\"case 1 50% split\")\n",
        "alpha1_EV1,alpha2_EV1,alpha3_EV1,alpha4_EV1=compute_EV(sorted_eignvalues1,sum_eignvalues1,sorted_eignvectors1)\n",
        "print()\n",
        "print(\"case 2 70% 30% split\")\n",
        "alpha1_EV2,alpha2_EV2,alpha3_EV2,alpha4_EV2=compute_EV(sorted_eignvalues2,sum_eignvalues2,sorted_eignvectors2)\n"
      ]
    },
    {
      "cell_type": "code",
      "execution_count": null,
      "metadata": {
        "id": "j_WUTEMoavdP"
      },
      "outputs": [],
      "source": [
        "def DataProjected (eignvector,test,train):\n",
        "  test_data_projected=np.dot(eignvector.T,test.T).T\n",
        "  train_data_projected=np.dot(eignvector.T,train.T).T\n",
        "  return test_data_projected,train_data_projected;"
      ]
    },
    {
      "cell_type": "code",
      "execution_count": null,
      "metadata": {
        "id": "CuWMTXVng3Gx"
      },
      "outputs": [],
      "source": [
        "TestAlpha11,TrainAlpha11=DataProjected(alpha1_EV1,test_centered1,train_centered1)\n",
        "TestAlpha12,TrainAlpha12=DataProjected(alpha2_EV1,test_centered1,train_centered1)\n",
        "TestAlpha13,TrainAlpha13=DataProjected(alpha3_EV1,test_centered1,train_centered1)\n",
        "TestAlpha14,TrainAlpha14=DataProjected(alpha4_EV1,test_centered1,train_centered1)\n",
        "\n",
        "\n",
        "TestAlpha21,TrainAlpha21=DataProjected(alpha1_EV2,test_centered2,train_centered2)\n",
        "TestAlpha22,TrainAlpha22=DataProjected(alpha2_EV2,test_centered2,train_centered2)\n",
        "TestAlpha23,TrainAlpha23=DataProjected(alpha3_EV2,test_centered2,train_centered2)\n",
        "TestAlpha24,TrainAlpha24=DataProjected(alpha4_EV2,test_centered2,train_centered2)"
      ]
    },
    {
      "cell_type": "code",
      "execution_count": null,
      "metadata": {
        "id": "S-7lrIHTZ3IL"
      },
      "outputs": [],
      "source": [
        "from sklearn.neighbors import KNeighborsClassifier\n",
        "from sklearn.metrics import classification_report, confusion_matrix,ConfusionMatrixDisplay\n",
        "import matplotlib.pyplot as plt\n",
        "def knn(TestAlpha,TrainAlpha,test_label,train_label):\n",
        "  k_values=np.array([1,3,5,7])\n",
        "  error_rate = np.empty(len(k_values))\n",
        "  accuracy = np.empty(len(k_values))\n",
        "\n",
        "  for i,k in enumerate(k_values):\n",
        "    knn = KNeighborsClassifier(n_neighbors=k)\n",
        "    knn.fit(TrainAlpha,train_label)\n",
        "    pred=knn.predict(TestAlpha)\n",
        "    accuracy[i]=knn.score(TestAlpha, test_label)\n",
        "    error_rate[i]=np.mean(pred != test_label)\n",
        "    # print('confusion matrix:\\n')\n",
        "    # print(confusion_matrix(test_label,pred))\n",
        "    # print('\\n')\n",
        "    # print(classification_report(test_label,pred))\n",
        "    \n",
        "  return error_rate,accuracy;"
      ]
    },
    {
      "cell_type": "code",
      "execution_count": null,
      "metadata": {
        "colab": {
          "base_uri": "https://localhost:8080/"
        },
        "id": "PztZKunnSJLH",
        "outputId": "4b47e905-c763-42bd-bb17-c3b2e2b405a6"
      },
      "outputs": [
        {
          "output_type": "stream",
          "name": "stdout",
          "text": [
            "accuracy for 50% split \n",
            "Alpha 1 Accuracy [0.84  0.675 0.635 0.56 ]\n",
            "Alpha 2 Accuracy [0.86  0.715 0.695 0.625]\n",
            "Alpha 3 Accuracy [0.86  0.715 0.695 0.625]\n",
            "Alpha 4 Accuracy [0.86  0.75  0.72  0.675]\n",
            "max accuracy for each alpha [0.84 0.86 0.86 0.86]\n",
            "best accuracy for first case: 0.86\n"
          ]
        }
      ],
      "source": [
        "k_values=np.array([1,3,5,7])\n",
        "print(\"accuracy for 50% split \")\n",
        "Alpha11_ErrorRate,Alpha11_accuracy=knn(TestAlpha11,TrainAlpha11,test_label1,train_label1)\n",
        "print(\"Alpha 1 Accuracy\",Alpha11_accuracy)\n",
        "Alpha12_ErrorRate,Alpha12_accuracy=knn(TestAlpha12,TrainAlpha12,test_label1,train_label1)\n",
        "print(\"Alpha 2 Accuracy\",Alpha12_accuracy)\n",
        "Alpha13_ErrorRate,Alpha13_accuracy=knn(TestAlpha13,TrainAlpha13,test_label1,train_label1)\n",
        "print(\"Alpha 3 Accuracy\",Alpha13_accuracy)\n",
        "Alpha14_ErrorRate,Alpha14_accuracy=knn(TestAlpha14,TrainAlpha14,test_label1,train_label1)\n",
        "print(\"Alpha 4 Accuracy\",Alpha14_accuracy)\n",
        "#choosen max accuracy for each alpha\n",
        "accuracy_1=np.array([np.max(Alpha11_accuracy),np.max(Alpha12_accuracy),np.max(Alpha13_accuracy),np.max(Alpha14_accuracy)])\n",
        "print (\"max accuracy for each alpha\",accuracy_1)\n",
        "accuracy_1_best=np.array(np.max(accuracy_1))\n",
        "print (\"best accuracy for first case:\",accuracy_1_best)"
      ]
    },
    {
      "cell_type": "code",
      "execution_count": null,
      "metadata": {
        "colab": {
          "base_uri": "https://localhost:8080/"
        },
        "id": "Hx-zgAFqZ9LY",
        "outputId": "012e8ae6-6691-4c66-ff7e-7dcc6e30d9e7"
      },
      "outputs": [
        {
          "output_type": "stream",
          "name": "stdout",
          "text": [
            "accuracy for 70% 30% split\n",
            "Alpha 1 Accuracy [0.75       0.66666667 0.66666667 0.625     ]\n",
            "Alpha 2 Accuracy [0.8        0.73333333 0.69166667 0.68333333]\n",
            "Alpha 3 Accuracy [0.8        0.73333333 0.69166667 0.68333333]\n",
            "Alpha 4 Accuracy [0.84166667 0.76666667 0.725      0.69166667]\n",
            "\n",
            "max accuracy for each alpha [0.75       0.8        0.8        0.84166667]\n",
            "best accuracy for second case: 0.8416666666666667\n"
          ]
        }
      ],
      "source": [
        "print(\"accuracy for 70% 30% split\")\n",
        "Alpha21_ErrorRate,Alpha21_accuracy=knn(TestAlpha21,TrainAlpha21,test_label2,train_label2)\n",
        "print(\"Alpha 1 Accuracy\",Alpha21_accuracy)\n",
        "Alpha22_ErrorRate,Alpha22_accuracy=knn(TestAlpha22,TrainAlpha22,test_label2,train_label2)\n",
        "print(\"Alpha 2 Accuracy\",Alpha22_accuracy)\n",
        "Alpha23_ErrorRate,Alpha23_accuracy=knn(TestAlpha23,TrainAlpha23,test_label2,train_label2)\n",
        "print(\"Alpha 3 Accuracy\",Alpha23_accuracy)\n",
        "Alpha24_ErrorRate,Alpha24_accuracy=knn(TestAlpha24,TrainAlpha24,test_label2,train_label2)\n",
        "print(\"Alpha 4 Accuracy\",Alpha24_accuracy)\n",
        "print()\n",
        "accuracy_2=np.array([np.max(Alpha21_accuracy),np.max(Alpha22_accuracy),np.max(Alpha23_accuracy),np.max(Alpha24_accuracy)])\n",
        "print (\"max accuracy for each alpha\",accuracy_2)\n",
        "accuracy_2_best=np.array(np.max(accuracy_2))\n",
        "print (\"best accuracy for second case:\",accuracy_2_best)"
      ]
    },
    {
      "cell_type": "code",
      "execution_count": null,
      "metadata": {
        "colab": {
          "base_uri": "https://localhost:8080/",
          "height": 308
        },
        "id": "gFFtrsEh4Cqp",
        "outputId": "76868b0a-0e03-475e-ca6d-616b6c084a05"
      },
      "outputs": [
        {
          "output_type": "display_data",
          "data": {
            "image/png": "[encoded data removed]",
            "text/plain": [
              "<Figure size 432x288 with 2 Axes>"
            ]
          },
          "metadata": {
            "needs_background": "light"
          }
        }
      ],
      "source": [
        "fig, axs = plt.subplots(2)\n",
        "axs[0].plot(k_values,Alpha11_ErrorRate,color='blue', linestyle='dashed', marker='o',\n",
        "        markerfacecolor='red', markersize=10)\n",
        "axs[0].plot(k_values,Alpha12_ErrorRate,color='red', linestyle='dashed', marker='o',\n",
        "        markerfacecolor='red', markersize=10)\n",
        "axs[0].plot(k_values,Alpha13_ErrorRate,color='yellow', linestyle='dashed', marker='o',\n",
        "        markerfacecolor='red', markersize=10)\n",
        "axs[0].plot(k_values,Alpha14_ErrorRate,color='green', linestyle='dashed', marker='o',\n",
        "        markerfacecolor='red', markersize=10)\n",
        "axs[0].set_title('50% split')\n",
        "axs[1].plot(k_values,Alpha21_ErrorRate,color='blue', linestyle='dashed', marker='o',\n",
        "        markerfacecolor='red', markersize=10)\n",
        "axs[1].plot(k_values,Alpha22_ErrorRate,color='red', linestyle='dashed', marker='o',\n",
        "        markerfacecolor='red', markersize=10)\n",
        "axs[1].plot(k_values,Alpha23_ErrorRate,color='yellow', linestyle='dashed', marker='o',\n",
        "        markerfacecolor='red', markersize=10)\n",
        "axs[1].plot(k_values,Alpha24_ErrorRate,color='green', linestyle='dashed', marker='o',\n",
        "        markerfacecolor='red', markersize=10)\n",
        "axs[1].set_title('70% 30% split')\n",
        "fig.suptitle('Error Rate vs. K Value')\n",
        "for ax in axs.flat:\n",
        "    ax.set(xlabel='K', ylabel='Error Rate')\n",
        "for ax in axs.flat:\n",
        "    ax.label_outer()"
      ]
    },
    {
      "cell_type": "code",
      "execution_count": null,
      "metadata": {
        "colab": {
          "base_uri": "https://localhost:8080/",
          "height": 308
        },
        "id": "igb5t4N2SKyK",
        "outputId": "cbc7f1f4-9f5f-4538-e32a-7c242dce6eeb"
      },
      "outputs": [
        {
          "data": {
            "image/png": "[encoded data removed]",
            "text/plain": [
              "<Figure size 432x288 with 2 Axes>"
            ]
          },
          "metadata": {},
          "output_type": "display_data"
        }
      ],
      "source": [
        "# accuracy vs per alpha values\n",
        "fig, axs = plt.subplots(2)\n",
        "axs[0].plot([0.8,0.85,0.9,0.95],Alpha11_accuracy,color='blue', linestyle='dashed', marker='o',\n",
        "        markerfacecolor='red', markersize=10)\n",
        "axs[1].plot([0.8,0.85,0.9,0.95],Alpha21_accuracy,color='red', linestyle='dashed', marker='o',\n",
        "        markerfacecolor='red', markersize=10)\n",
        "axs[0].set_title('50% split')\n",
        "axs[1].set_title('70% 30% split')\n",
        "fig.suptitle('Alpha1 vs. Accuracy')\n",
        "for ax in axs.flat:\n",
        "    ax.set(xlabel='Alpha1', ylabel='Accuracy')\n",
        "for ax in axs.flat:\n",
        "    ax.label_outer()"
      ]
    },
    {
      "cell_type": "code",
      "execution_count": null,
      "metadata": {
        "colab": {
          "base_uri": "https://localhost:8080/",
          "height": 308
        },
        "id": "1v0IlBR0e2kn",
        "outputId": "47e9163a-c739-4d14-f1c5-dd51989bc442"
      },
      "outputs": [
        {
          "data": {
            "image/png": "[encoded data removed]",
            "text/plain": [
              "<Figure size 432x288 with 2 Axes>"
            ]
          },
          "metadata": {},
          "output_type": "display_data"
        }
      ],
      "source": [
        "# accuracy vs per alpha values\n",
        "fig, axs = plt.subplots(2)\n",
        "axs[0].plot([0.8,0.85,0.9,0.95],Alpha12_accuracy,color='blue', linestyle='dashed', marker='o',\n",
        "        markerfacecolor='red', markersize=10)\n",
        "axs[1].plot([0.8,0.85,0.9,0.95],Alpha22_accuracy,color='red', linestyle='dashed', marker='o',\n",
        "        markerfacecolor='red', markersize=10)\n",
        "axs[0].set_title('50% split')\n",
        "axs[1].set_title('70% 30% split')\n",
        "fig.suptitle('Alpha2 vs. Accuracy')\n",
        "for ax in axs.flat:\n",
        "    ax.set(xlabel='Alpha2', ylabel='Accuracy')\n",
        "\n",
        "# Hide x labels and tick labels for top plots and y ticks for right plots.\n",
        "for ax in axs.flat:\n",
        "    ax.label_outer()"
      ]
    },
    {
      "cell_type": "code",
      "execution_count": null,
      "metadata": {
        "colab": {
          "base_uri": "https://localhost:8080/",
          "height": 308
        },
        "id": "PLKen4ETe2VE",
        "outputId": "f94e4f1c-7ef9-493a-9a6a-e662913741c3"
      },
      "outputs": [
        {
          "data": {
            "image/png": "[encoded data removed]",
            "text/plain": [
              "<Figure size 432x288 with 2 Axes>"
            ]
          },
          "metadata": {},
          "output_type": "display_data"
        }
      ],
      "source": [
        "# accuracy vs per alpha values\n",
        "fig, axs = plt.subplots(2)\n",
        "axs[0].plot([0.8,0.85,0.9,0.95],Alpha13_accuracy,color='blue', linestyle='dashed', marker='o',\n",
        "        markerfacecolor='red', markersize=10)\n",
        "axs[1].plot([0.8,0.85,0.9,0.95],Alpha23_accuracy,color='red', linestyle='dashed', marker='o',\n",
        "        markerfacecolor='red', markersize=10)\n",
        "fig.suptitle('Alpha3 vs. Accuracy')\n",
        "for ax in axs.flat:\n",
        "    ax.set(xlabel='Alpha3', ylabel='Accuracy')\n",
        "axs[0].set_title('50% split')\n",
        "axs[1].set_title('70% 30% split')\n",
        "# Hide x labels and tick labels for top plots and y ticks for right plots.\n",
        "for ax in axs.flat:\n",
        "    ax.label_outer()"
      ]
    },
    {
      "cell_type": "code",
      "execution_count": null,
      "metadata": {
        "colab": {
          "base_uri": "https://localhost:8080/",
          "height": 308
        },
        "id": "rGdRCSwme19_",
        "outputId": "71c163ec-cab6-4c9c-b6aa-5de2115bc85a"
      },
      "outputs": [
        {
          "data": {
            "image/png": "[encoded data removed]",
            "text/plain": [
              "<Figure size 432x288 with 2 Axes>"
            ]
          },
          "metadata": {},
          "output_type": "display_data"
        }
      ],
      "source": [
        "# accuracy vs per alpha values\n",
        "fig, axs = plt.subplots(2)\n",
        "axs[0].plot([0.8,0.85,0.9,0.95],Alpha14_accuracy,color='blue', linestyle='dashed', marker='o',\n",
        "        markerfacecolor='red', markersize=10)\n",
        "axs[1].plot([0.8,0.85,0.9,0.95],Alpha24_accuracy,color='red', linestyle='dashed', marker='o',\n",
        "        markerfacecolor='red', markersize=10)\n",
        "fig.suptitle('Alpha4 vs. Accuracy')\n",
        "axs[0].set_title('50% split')\n",
        "axs[1].set_title('70% 30% split')\n",
        "for ax in axs.flat:\n",
        "    ax.set(xlabel='Alpha4', ylabel='Accuracy')\n",
        "\n",
        "# Hide x labels and tick labels for top plots and y ticks for right plots.\n",
        "for ax in axs.flat:\n",
        "    ax.label_outer()"
      ]
    }
  ],
  "metadata": {
    "colab": {
      "provenance": []
    },
    "kernelspec": {
      "display_name": "Python 3",
      "name": "python3"
    },
    "language_info": {
      "name": "python"
    }
  },
  "nbformat": 4,
  "nbformat_minor": 0
}