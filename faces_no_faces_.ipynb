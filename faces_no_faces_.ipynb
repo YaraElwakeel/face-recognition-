{
  "nbformat": 4,
  "nbformat_minor": 0,
  "metadata": {
    "colab": {
      "provenance": []
    },
    "kernelspec": {
      "name": "python3",
      "display_name": "Python 3"
    },
    "language_info": {
      "name": "python"
    }
  },
  "cells": [
    {
      "cell_type": "code",
      "metadata": {
        "colab": {
          "base_uri": "https://localhost:8080/"
        },
        "id": "Q7dOC2WFmweS",
        "outputId": "4401c8a9-53bd-4132-8d76-3f8c75593fa4"
      },
      "source": [
        "from google.colab import drive\n",
        "drive.mount('/content/drive')"
      ],
      "execution_count": null,
      "outputs": [
        {
          "output_type": "stream",
          "name": "stdout",
          "text": [
            "Drive already mounted at /content/drive; to attempt to forcibly remount, call drive.mount(\"/content/drive\", force_remount=True).\n"
          ]
        }
      ]
    },
    {
      "cell_type": "code",
      "metadata": {
        "id": "vWRHOgso20p2"
      },
      "source": [
        "import zipfile\n",
        "from PIL import Image\n",
        "import numpy as np\n",
        "path1=(\"/content/drive/MyDrive/archive.zip\")\n",
        "path2=(\"/content/drive/MyDrive/024.butterfly.zip\")\n",
        "\n",
        "def import_imgs(path):\n",
        "  data_matrix = np.empty((0, 10304), np.int8)\n",
        "  zip_read=zipfile.ZipFile(path,mode='r')\n",
        "  name = zip_read.namelist()\n",
        "  pgm_imgs=name[1:]\n",
        "  for pgm_img in pgm_imgs:\n",
        "    myfile = zip_read.open(pgm_img)\n",
        "    img = Image.open(myfile).convert('L')\n",
        "    new_image = img.resize((92, 112))\n",
        "    image_sequence= new_image.getdata()\n",
        "    image_array = np.array(image_sequence)\n",
        "    data_matrix = np.vstack([data_matrix,image_array])\n",
        "  return data_matrix\n",
        "\n",
        "\n",
        "data_faces=import_imgs(path1)\n",
        "data_nonfaces=import_imgs(path2)\n"
      ],
      "execution_count": null,
      "outputs": []
    },
    {
      "cell_type": "code",
      "metadata": {
        "colab": {
          "base_uri": "https://localhost:8080/"
        },
        "id": "a8VFH9DbjrDI",
        "outputId": "42edf39e-1c87-49c6-86f0-663d67af1183"
      },
      "source": [
        "data1=np.vstack([data_faces[:200:],data_nonfaces[:200:]])\n",
        "data2=np.vstack([data_faces[:200:],data_nonfaces[:300:]])\n",
        "data3=np.vstack([data_faces[:200:],data_nonfaces[:400:]])\n",
        "label_faces=np.repeat(\"faces\",200)\n",
        "labels1=np.append(label_faces,np.repeat(\"nonfaces\",200))\n",
        "labels2=np.append(label_faces,np.repeat(\"nonfaces\",300))\n",
        "labels3=np.append(label_faces,np.repeat(\"nonfaces\",400))\n",
        "\n",
        "print(labels1.shape,data1.shape)\n",
        "print(labels2.shape,data2.shape)\n",
        "print(labels3.shape,data3.shape)"
      ],
      "execution_count": null,
      "outputs": [
        {
          "output_type": "stream",
          "name": "stdout",
          "text": [
            "(400,) (400, 10304)\n",
            "(500,) (500, 10304)\n",
            "(600,) (600, 10304)\n"
          ]
        }
      ]
    },
    {
      "cell_type": "code",
      "metadata": {
        "id": "otKVJVxU20_y"
      },
      "source": [
        "from sklearn.preprocessing import normalize\n",
        "data_matrix1=normalize(data1)\n",
        "data_matrix2=normalize(data2)\n",
        "data_matrix3=normalize(data3)"
      ],
      "execution_count": null,
      "outputs": []
    },
    {
      "cell_type": "code",
      "metadata": {
        "colab": {
          "base_uri": "https://localhost:8080/"
        },
        "id": "hUyuT2ZY21X8",
        "outputId": "b411af71-c499-4216-bca9-71d6359656fa"
      },
      "source": [
        "def splitdata(data_matrix,labels):\n",
        "  train_data,test_data=np.array(data_matrix[::2]),np.array(data_matrix[1::2])\n",
        "  train_label,test_label=np.array(labels[::2]),np.array(labels[1::2])\n",
        "  return train_data,test_data,train_label,test_label\n",
        "train_data1,test_data1,train_label1,test_label1=splitdata(data_matrix1,labels1)\n",
        "train_data2,test_data2,train_label2,test_label2=splitdata(data_matrix2,labels2)\n",
        "train_data3,test_data3,train_label3,test_label3=splitdata(data_matrix3,labels3)\n",
        "print(train_data1.shape,train_label1.shape)\n",
        "print(train_data2.shape,train_label2.shape)\n",
        "print(train_data3.shape,train_label3.shape)"
      ],
      "execution_count": null,
      "outputs": [
        {
          "output_type": "stream",
          "name": "stdout",
          "text": [
            "(200, 10304) (200,)\n",
            "(250, 10304) (250,)\n",
            "(300, 10304) (300,)\n"
          ]
        }
      ]
    },
    {
      "cell_type": "code",
      "metadata": {
        "colab": {
          "base_uri": "https://localhost:8080/"
        },
        "id": "gWkoIOIjG0S6",
        "outputId": "0a9b3fa6-47c5-4520-fd21-fe46b1c77d84"
      },
      "source": [
        "def Evaluate_CovMatrix(train_data,test_data):\n",
        "  train_mean = np.mean(train_data,axis=0)\n",
        "  print(train_mean.shape)\n",
        "  train_centered=train_data-train_mean\n",
        "  test_mean = np.mean(test_data,axis=0)\n",
        "  print(test_mean.shape)\n",
        "  test_centered=test_data-test_mean\n",
        "  print(type(test_centered[0]))\n",
        "  Cov_matrix=np.cov(train_centered, rowvar=False, bias=True)\n",
        "  print(Cov_matrix)\n",
        "  eignvalues,eignvectors=np.linalg.eigh(Cov_matrix)\n",
        "  print(eignvalues)\n",
        "  return Cov_matrix,eignvalues,eignvectors,train_centered,test_centered\n",
        "\n",
        "Cov_matrix1,eignvalues1,eignvectors1,train_centered1,test_centered1=Evaluate_CovMatrix(train_data1,test_data1)\n",
        "Cov_matrix2,eignvalues2,eignvectors2,train_centered2,test_centered2=Evaluate_CovMatrix(train_data2,test_data2)\n",
        "Cov_matrix3,eignvalues3,eignvectors3,train_centered3,test_centered3=Evaluate_CovMatrix(train_data3,test_data3)\n",
        "print(Cov_matrix1.shape)"
      ],
      "execution_count": null,
      "outputs": [
        {
          "output_type": "stream",
          "name": "stdout",
          "text": [
            "(10304,)\n",
            "(10304,)\n",
            "<class 'numpy.ndarray'>\n",
            "[[1.81278659e-05 1.70196383e-05 1.45576625e-05 ... 5.77305976e-06\n",
            "  6.69262682e-06 7.15867481e-06]\n",
            " [1.70196383e-05 1.76480565e-05 1.52099780e-05 ... 5.22456122e-06\n",
            "  6.20874781e-06 6.54048383e-06]\n",
            " [1.45576625e-05 1.52099780e-05 1.61655898e-05 ... 5.95645615e-06\n",
            "  6.85433716e-06 7.21995809e-06]\n",
            " ...\n",
            " [5.77305976e-06 5.22456122e-06 5.95645615e-06 ... 2.78552240e-05\n",
            "  2.46431557e-05 2.39722005e-05]\n",
            " [6.69262682e-06 6.20874781e-06 6.85433716e-06 ... 2.46431557e-05\n",
            "  2.47585298e-05 2.42587962e-05]\n",
            " [7.15867481e-06 6.54048383e-06 7.21995809e-06 ... 2.39722005e-05\n",
            "  2.42587962e-05 2.50496036e-05]]\n",
            "[-1.46140972e-17 -1.01160522e-17 -9.16761223e-18 ...  8.73390787e-03\n",
            "  1.43144576e-02  3.06560116e-02]\n",
            "(10304,)\n",
            "(10304,)\n",
            "<class 'numpy.ndarray'>\n",
            "[[2.58104905e-05 2.35502634e-05 2.17478897e-05 ... 8.44874375e-06\n",
            "  9.21103348e-06 1.07201084e-05]\n",
            " [2.35502634e-05 2.31827562e-05 2.13782643e-05 ... 8.08597474e-06\n",
            "  8.95097758e-06 1.00903889e-05]\n",
            " [2.17478897e-05 2.13782643e-05 2.23138985e-05 ... 8.82910431e-06\n",
            "  9.61063054e-06 1.07983940e-05]\n",
            " ...\n",
            " [8.44874375e-06 8.08597474e-06 8.82910431e-06 ... 2.90944564e-05\n",
            "  2.63950819e-05 2.56548737e-05]\n",
            " [9.21103348e-06 8.95097758e-06 9.61063054e-06 ... 2.63950819e-05\n",
            "  2.64857445e-05 2.59356446e-05]\n",
            " [1.07201084e-05 1.00903889e-05 1.07983940e-05 ... 2.56548737e-05\n",
            "  2.59356446e-05 2.68945980e-05]]\n",
            "[-1.87791708e-17 -1.39755197e-17 -1.24339236e-17 ...  1.02876619e-02\n",
            "  1.50885495e-02  3.90127890e-02]\n",
            "(10304,)\n",
            "(10304,)\n",
            "<class 'numpy.ndarray'>\n",
            "[[2.55711330e-05 2.36324313e-05 2.19988663e-05 ... 9.02269013e-06\n",
            "  9.68566915e-06 1.08491199e-05]\n",
            " [2.36324313e-05 2.34817797e-05 2.18349745e-05 ... 8.70497868e-06\n",
            "  9.47691857e-06 1.02303970e-05]\n",
            " [2.19988663e-05 2.18349745e-05 2.26197920e-05 ... 9.20344887e-06\n",
            "  9.92021053e-06 1.07447343e-05]\n",
            " ...\n",
            " [9.02269013e-06 8.70497868e-06 9.20344887e-06 ... 2.83986293e-05\n",
            "  2.58612051e-05 2.48939134e-05]\n",
            " [9.68566915e-06 9.47691857e-06 9.92021053e-06 ... 2.58612051e-05\n",
            "  2.59991234e-05 2.51665839e-05]\n",
            " [1.08491199e-05 1.02303970e-05 1.07447343e-05 ... 2.48939134e-05\n",
            "  2.51665839e-05 2.61683372e-05]]\n",
            "[-2.94147738e-17 -1.53836994e-17 -1.23185112e-17 ...  9.45782758e-03\n",
            "  1.44237062e-02  3.76306326e-02]\n",
            "(10304, 10304)\n"
          ]
        }
      ]
    },
    {
      "cell_type": "code",
      "metadata": {
        "colab": {
          "base_uri": "https://localhost:8080/"
        },
        "id": "GRTOc1Z-G0T0",
        "outputId": "5e33b63e-f64b-469f-fd02-9cf4b15eae0d"
      },
      "source": [
        "def sort(eignvalues,eignvectors):\n",
        "  sortedindeces= np.argsort(eignvalues)\n",
        "  sorted_eignvectors=eignvectors[:,sortedindeces]\n",
        "  sorted_eignvalues=np.sort(eignvalues)\n",
        "  sum_eignvalues=np.sum(sorted_eignvalues)\n",
        "  return sum_eignvalues,sorted_eignvalues,sorted_eignvectors\n",
        "\n",
        "sum_eignvalues1,sorted_eignvalues1,sorted_eignvectors1=sort(eignvalues1,eignvectors1)\n",
        "print('sum of 50% eignvalues for 200faces and 200 non faces',sum_eignvalues1)\n",
        "sum_eignvalues2,sorted_eignvalues2,sorted_eignvectors2=sort(eignvalues2,eignvectors2)\n",
        "print('sum of 50% eignvalues for 200faces and 300 non faces',sum_eignvalues2)\n",
        "sum_eignvalues3,sorted_eignvalues3,sorted_eignvectors3=sort(eignvalues3,eignvectors3)\n",
        "print('sum of 50% eignvalues for 200faces and 400 non faces',sum_eignvalues3)\n",
        "\n"
      ],
      "execution_count": null,
      "outputs": [
        {
          "output_type": "stream",
          "name": "stdout",
          "text": [
            "sum of 50% eignvalues for 200faces and 200 non faces 0.15896360214388516\n",
            "sum of 50% eignvalues for 200faces and 300 non faces 0.18311152297816582\n",
            "sum of 50% eignvalues for 200faces and 400 non faces 0.19165593454318003\n"
          ]
        }
      ]
    },
    {
      "cell_type": "code",
      "metadata": {
        "colab": {
          "base_uri": "https://localhost:8080/"
        },
        "id": "9U2TElVfG0XA",
        "outputId": "7199f6a5-8e3c-46ea-ffbb-d824a5c220ff"
      },
      "source": [
        "def PCA(alpha,sorted_eignvalues,sum_eignvalues):\n",
        "  accumulated_eignvalues=0\n",
        "  for eignvalue in sorted_eignvalues:\n",
        "    accumulated_eignvalues=accumulated_eignvalues+eignvalue\n",
        "    fraction_totall_variance=accumulated_eignvalues/sum_eignvalues\n",
        "    if fraction_totall_variance >= float(alpha):\n",
        "      print(fraction_totall_variance)\n",
        "      index=int(np.where(sorted_eignvalues==eignvalue)[0])\n",
        "      break\n",
        "  return index;\n",
        "\n",
        "def compute_EV(sorted_eignvalues,sum_eignvalues,sorted_eignvectors):\n",
        "  alpha1_dim=PCA(0.8,sorted_eignvalues,sum_eignvalues)\n",
        "  print(\"alpha1 dim\",alpha1_dim)\n",
        "  alpha1_EV=sorted_eignvectors[:,0:alpha1_dim]\n",
        "\n",
        "  alpha2_dim=PCA(0.85,sorted_eignvalues,sum_eignvalues)\n",
        "  print(\"alpha1=2 dim\",alpha2_dim)\n",
        "  alpha2_EV=sorted_eignvectors[:,0:alpha2_dim]\n",
        "\n",
        "  alpha3_dim=PCA(0.9,sorted_eignvalues,sum_eignvalues)\n",
        "  print(\"alpha3 dim\",alpha3_dim)\n",
        "  alpha3_EV=sorted_eignvectors[:,0:alpha3_dim]\n",
        "\n",
        "  alpha4_dim=PCA(0.95,sorted_eignvalues,sum_eignvalues)\n",
        "  print(\"alpha4 dim\",alpha4_dim)\n",
        "  alpha4_EV=sorted_eignvectors[:,0:alpha4_dim]\n",
        "  return alpha1_EV,alpha2_EV,alpha3_EV,alpha4_EV\n",
        "\n",
        "alpha1_EV1,alpha2_EV1,alpha3_EV1,alpha4_EV1=compute_EV(sorted_eignvalues1,sum_eignvalues1,sorted_eignvectors1)\n",
        "alpha1_EV2,alpha2_EV2,alpha3_EV2,alpha4_EV2=compute_EV(sorted_eignvalues2,sum_eignvalues2,sorted_eignvectors2)\n",
        "alpha1_EV3,alpha2_EV3,alpha3_EV3,alpha4_EV3=compute_EV(sorted_eignvalues3,sum_eignvalues3,sorted_eignvectors3)"
      ],
      "execution_count": null,
      "outputs": [
        {
          "output_type": "stream",
          "name": "stdout",
          "text": [
            "0.8071507488108186\n",
            "alpha1 dim 10302\n",
            "1.0000000000000002\n",
            "alpha1=2 dim 10303\n",
            "1.0000000000000002\n",
            "alpha3 dim 10303\n",
            "1.0000000000000002\n",
            "alpha4 dim 10303\n",
            "0.9999999999999999\n",
            "alpha1 dim 10303\n",
            "0.9999999999999999\n",
            "alpha1=2 dim 10303\n",
            "0.9999999999999999\n",
            "alpha3 dim 10303\n",
            "0.9999999999999999\n",
            "alpha4 dim 10303\n",
            "0.8036552708622592\n",
            "alpha1 dim 10302\n",
            "0.9999999999999997\n",
            "alpha1=2 dim 10303\n",
            "0.9999999999999997\n",
            "alpha3 dim 10303\n",
            "0.9999999999999997\n",
            "alpha4 dim 10303\n"
          ]
        }
      ]
    },
    {
      "cell_type": "code",
      "metadata": {
        "id": "uulhqPxeG0b1"
      },
      "source": [
        "def DataProjected (eignvector,test,train):\n",
        "  test_data_projected=np.dot(eignvector.T,test.T).T\n",
        "  train_data_projected=np.dot(eignvector.T,train.T).T\n",
        "  return test_data_projected,train_data_projected;"
      ],
      "execution_count": null,
      "outputs": []
    },
    {
      "cell_type": "code",
      "metadata": {
        "id": "2a0uSCAQzTBS"
      },
      "source": [
        "TestAlpha11,TrainAlpha11=DataProjected(alpha1_EV1,test_centered1,train_centered1)\n",
        "TestAlpha12,TrainAlpha12=DataProjected(alpha2_EV1,test_centered1,train_centered1)\n",
        "TestAlpha13,TrainAlpha13=DataProjected(alpha3_EV1,test_centered1,train_centered1)\n",
        "TestAlpha14,TrainAlpha14=DataProjected(alpha4_EV1,test_centered1,train_centered1)\n",
        "\n",
        "\n",
        "TestAlpha21,TrainAlpha21=DataProjected(alpha1_EV2,test_centered2,train_centered2)\n",
        "TestAlpha22,TrainAlpha22=DataProjected(alpha2_EV2,test_centered2,train_centered2)\n",
        "TestAlpha23,TrainAlpha23=DataProjected(alpha3_EV2,test_centered2,train_centered2)\n",
        "TestAlpha24,TrainAlpha24=DataProjected(alpha4_EV2,test_centered2,train_centered2)\n",
        "\n",
        "TestAlpha31,TrainAlpha31=DataProjected(alpha1_EV3,test_centered3,train_centered3)\n",
        "TestAlpha32,TrainAlpha32=DataProjected(alpha2_EV3,test_centered3,train_centered3)\n",
        "TestAlpha33,TrainAlpha33=DataProjected(alpha3_EV3,test_centered3,train_centered3)\n",
        "TestAlpha34,TrainAlpha34=DataProjected(alpha4_EV3,test_centered3,train_centered3)"
      ],
      "execution_count": null,
      "outputs": []
    },
    {
      "cell_type": "code",
      "metadata": {
        "id": "QdB49t9WBq1P"
      },
      "source": [
        "from sklearn.neighbors import KNeighborsClassifier\n",
        "from sklearn.metrics import classification_report, confusion_matrix\n",
        "import matplotlib.pyplot as plt\n",
        "def knn(TestAlpha,TrainAlpha,test_label,train_label):\n",
        "  k_values=np.array([1,3,5,7])\n",
        "  error_rate = np.empty(len(k_values))\n",
        "  accuracy = np.empty(len(k_values))\n",
        "  pred =np.empty(len(k_values))\n",
        "  \n",
        "  for i,k in enumerate(k_values):\n",
        "    knn = KNeighborsClassifier(n_neighbors=k)\n",
        "    knn.fit(TrainAlpha,train_label)\n",
        "    pred=knn.predict(TestAlpha)\n",
        "    accuracy[i]=knn.score(TestAlpha, test_label)\n",
        "    error_rate[i]=np.mean(pred != test_label)\n",
        "    print('\\n')\n",
        "    print(confusion_matrix(test_label,pred))\n",
        "    print('\\n')\n",
        "    print(classification_report(test_label,pred))\n",
        "  return error_rate,accuracy;\n"
      ],
      "execution_count": null,
      "outputs": []
    },
    {
      "cell_type": "code",
      "metadata": {
        "colab": {
          "base_uri": "https://localhost:8080/"
        },
        "id": "7uMtXEQHzcDy",
        "outputId": "3123a947-4f55-4021-b99f-23ec79cb7675"
      },
      "source": [
        "k_values=np.array([1,3,5,7])\n",
        "print(\"accuracy for 200 faces and 200 non faces \")\n",
        "Alpha11_ErrorRate,Alpha11_accuracy=knn(TestAlpha11,TrainAlpha11,test_label1,train_label1)\n",
        "print(\"Alpha 1 Accuracy\",Alpha11_accuracy)\n",
        "Alpha12_ErrorRate,Alpha12_accuracy=knn(TestAlpha12,TrainAlpha12,test_label1,train_label1)\n",
        "print(\"Alpha 2 Accuracy\",Alpha12_accuracy)\n",
        "Alpha13_ErrorRate,Alpha13_accuracy=knn(TestAlpha13,TrainAlpha13,test_label1,train_label1)\n",
        "print(\"Alpha 3 Accuracy\",Alpha13_accuracy)\n",
        "Alpha14_ErrorRate,Alpha14_accuracy=knn(TestAlpha14,TrainAlpha14,test_label1,train_label1)\n",
        "print(\"Alpha 4 Accuracy\",Alpha14_accuracy)\n",
        "#choosen max accuracy for each alpha\n",
        "accuracy_1=np.array([np.max(Alpha11_accuracy),np.max(Alpha12_accuracy),np.max(Alpha13_accuracy),np.max(Alpha14_accuracy)])\n",
        "print (\"max accuracy for each alpha\",accuracy_1)\n",
        "accuracy_1_best=np.array(np.max(accuracy_1))\n",
        "print (\"best accuracy for first case:\",accuracy_1_best)"
      ],
      "execution_count": null,
      "outputs": [
        {
          "output_type": "stream",
          "name": "stdout",
          "text": [
            "accuracy for 200 faces and 200 non faces \n",
            "\n",
            "\n",
            "[[91  9]\n",
            " [ 7 93]]\n",
            "\n",
            "\n",
            "              precision    recall  f1-score   support\n",
            "\n",
            "       faces       0.93      0.91      0.92       100\n",
            "    nonfaces       0.91      0.93      0.92       100\n",
            "\n",
            "    accuracy                           0.92       200\n",
            "   macro avg       0.92      0.92      0.92       200\n",
            "weighted avg       0.92      0.92      0.92       200\n",
            "\n",
            "\n",
            "\n",
            "[[80 20]\n",
            " [ 4 96]]\n",
            "\n",
            "\n",
            "              precision    recall  f1-score   support\n",
            "\n",
            "       faces       0.95      0.80      0.87       100\n",
            "    nonfaces       0.83      0.96      0.89       100\n",
            "\n",
            "    accuracy                           0.88       200\n",
            "   macro avg       0.89      0.88      0.88       200\n",
            "weighted avg       0.89      0.88      0.88       200\n",
            "\n",
            "\n",
            "\n",
            "[[57 43]\n",
            " [ 1 99]]\n",
            "\n",
            "\n",
            "              precision    recall  f1-score   support\n",
            "\n",
            "       faces       0.98      0.57      0.72       100\n",
            "    nonfaces       0.70      0.99      0.82       100\n",
            "\n",
            "    accuracy                           0.78       200\n",
            "   macro avg       0.84      0.78      0.77       200\n",
            "weighted avg       0.84      0.78      0.77       200\n",
            "\n",
            "\n",
            "\n",
            "[[45 55]\n",
            " [ 2 98]]\n",
            "\n",
            "\n",
            "              precision    recall  f1-score   support\n",
            "\n",
            "       faces       0.96      0.45      0.61       100\n",
            "    nonfaces       0.64      0.98      0.77       100\n",
            "\n",
            "    accuracy                           0.71       200\n",
            "   macro avg       0.80      0.71      0.69       200\n",
            "weighted avg       0.80      0.71      0.69       200\n",
            "\n",
            "Alpha 1 Accuracy [0.92  0.88  0.78  0.715]\n",
            "\n",
            "\n",
            "[[93  7]\n",
            " [ 4 96]]\n",
            "\n",
            "\n",
            "              precision    recall  f1-score   support\n",
            "\n",
            "       faces       0.96      0.93      0.94       100\n",
            "    nonfaces       0.93      0.96      0.95       100\n",
            "\n",
            "    accuracy                           0.94       200\n",
            "   macro avg       0.95      0.95      0.94       200\n",
            "weighted avg       0.95      0.94      0.94       200\n",
            "\n",
            "\n",
            "\n",
            "[[85 15]\n",
            " [ 4 96]]\n",
            "\n",
            "\n",
            "              precision    recall  f1-score   support\n",
            "\n",
            "       faces       0.96      0.85      0.90       100\n",
            "    nonfaces       0.86      0.96      0.91       100\n",
            "\n",
            "    accuracy                           0.91       200\n",
            "   macro avg       0.91      0.91      0.90       200\n",
            "weighted avg       0.91      0.91      0.90       200\n",
            "\n",
            "\n",
            "\n",
            "[[69 31]\n",
            " [ 4 96]]\n",
            "\n",
            "\n",
            "              precision    recall  f1-score   support\n",
            "\n",
            "       faces       0.95      0.69      0.80       100\n",
            "    nonfaces       0.76      0.96      0.85       100\n",
            "\n",
            "    accuracy                           0.82       200\n",
            "   macro avg       0.85      0.82      0.82       200\n",
            "weighted avg       0.85      0.82      0.82       200\n",
            "\n",
            "\n",
            "\n",
            "[[59 41]\n",
            " [ 5 95]]\n",
            "\n",
            "\n",
            "              precision    recall  f1-score   support\n",
            "\n",
            "       faces       0.92      0.59      0.72       100\n",
            "    nonfaces       0.70      0.95      0.81       100\n",
            "\n",
            "    accuracy                           0.77       200\n",
            "   macro avg       0.81      0.77      0.76       200\n",
            "weighted avg       0.81      0.77      0.76       200\n",
            "\n",
            "Alpha 2 Accuracy [0.945 0.905 0.825 0.77 ]\n",
            "\n",
            "\n",
            "[[93  7]\n",
            " [ 4 96]]\n",
            "\n",
            "\n",
            "              precision    recall  f1-score   support\n",
            "\n",
            "       faces       0.96      0.93      0.94       100\n",
            "    nonfaces       0.93      0.96      0.95       100\n",
            "\n",
            "    accuracy                           0.94       200\n",
            "   macro avg       0.95      0.95      0.94       200\n",
            "weighted avg       0.95      0.94      0.94       200\n",
            "\n",
            "\n",
            "\n",
            "[[85 15]\n",
            " [ 4 96]]\n",
            "\n",
            "\n",
            "              precision    recall  f1-score   support\n",
            "\n",
            "       faces       0.96      0.85      0.90       100\n",
            "    nonfaces       0.86      0.96      0.91       100\n",
            "\n",
            "    accuracy                           0.91       200\n",
            "   macro avg       0.91      0.91      0.90       200\n",
            "weighted avg       0.91      0.91      0.90       200\n",
            "\n",
            "\n",
            "\n",
            "[[69 31]\n",
            " [ 4 96]]\n",
            "\n",
            "\n",
            "              precision    recall  f1-score   support\n",
            "\n",
            "       faces       0.95      0.69      0.80       100\n",
            "    nonfaces       0.76      0.96      0.85       100\n",
            "\n",
            "    accuracy                           0.82       200\n",
            "   macro avg       0.85      0.82      0.82       200\n",
            "weighted avg       0.85      0.82      0.82       200\n",
            "\n",
            "\n",
            "\n",
            "[[59 41]\n",
            " [ 5 95]]\n",
            "\n",
            "\n",
            "              precision    recall  f1-score   support\n",
            "\n",
            "       faces       0.92      0.59      0.72       100\n",
            "    nonfaces       0.70      0.95      0.81       100\n",
            "\n",
            "    accuracy                           0.77       200\n",
            "   macro avg       0.81      0.77      0.76       200\n",
            "weighted avg       0.81      0.77      0.76       200\n",
            "\n",
            "Alpha 3 Accuracy [0.945 0.905 0.825 0.77 ]\n",
            "\n",
            "\n",
            "[[93  7]\n",
            " [ 4 96]]\n",
            "\n",
            "\n",
            "              precision    recall  f1-score   support\n",
            "\n",
            "       faces       0.96      0.93      0.94       100\n",
            "    nonfaces       0.93      0.96      0.95       100\n",
            "\n",
            "    accuracy                           0.94       200\n",
            "   macro avg       0.95      0.95      0.94       200\n",
            "weighted avg       0.95      0.94      0.94       200\n",
            "\n",
            "\n",
            "\n",
            "[[85 15]\n",
            " [ 4 96]]\n",
            "\n",
            "\n",
            "              precision    recall  f1-score   support\n",
            "\n",
            "       faces       0.96      0.85      0.90       100\n",
            "    nonfaces       0.86      0.96      0.91       100\n",
            "\n",
            "    accuracy                           0.91       200\n",
            "   macro avg       0.91      0.91      0.90       200\n",
            "weighted avg       0.91      0.91      0.90       200\n",
            "\n",
            "\n",
            "\n",
            "[[69 31]\n",
            " [ 4 96]]\n",
            "\n",
            "\n",
            "              precision    recall  f1-score   support\n",
            "\n",
            "       faces       0.95      0.69      0.80       100\n",
            "    nonfaces       0.76      0.96      0.85       100\n",
            "\n",
            "    accuracy                           0.82       200\n",
            "   macro avg       0.85      0.82      0.82       200\n",
            "weighted avg       0.85      0.82      0.82       200\n",
            "\n",
            "\n",
            "\n",
            "[[59 41]\n",
            " [ 5 95]]\n",
            "\n",
            "\n",
            "              precision    recall  f1-score   support\n",
            "\n",
            "       faces       0.92      0.59      0.72       100\n",
            "    nonfaces       0.70      0.95      0.81       100\n",
            "\n",
            "    accuracy                           0.77       200\n",
            "   macro avg       0.81      0.77      0.76       200\n",
            "weighted avg       0.81      0.77      0.76       200\n",
            "\n",
            "Alpha 4 Accuracy [0.945 0.905 0.825 0.77 ]\n",
            "max accuracy for each alpha [0.92  0.945 0.945 0.945]\n",
            "best accuracy for first case: 0.945\n"
          ]
        }
      ]
    },
    {
      "cell_type": "code",
      "metadata": {
        "colab": {
          "base_uri": "https://localhost:8080/"
        },
        "id": "O_siJtUAAagG",
        "outputId": "15481e81-ea40-46f4-8019-d68bc4e21836"
      },
      "source": [
        "print(\"accuracy for 200 faces 350 non faces\")\n",
        "Alpha21_ErrorRate,Alpha21_accuracy=knn(TestAlpha21,TrainAlpha21,test_label2,train_label2)\n",
        "print(\"Alpha 1 Accuracy\",Alpha21_accuracy)\n",
        "Alpha22_ErrorRate,Alpha22_accuracy=knn(TestAlpha22,TrainAlpha22,test_label2,train_label2)\n",
        "print(\"Alpha 2 Accuracy\",Alpha22_accuracy)\n",
        "Alpha23_ErrorRate,Alpha23_accuracy=knn(TestAlpha23,TrainAlpha23,test_label2,train_label2)\n",
        "print(\"Alpha 3 Accuracy\",Alpha23_accuracy)\n",
        "Alpha24_ErrorRate,Alpha24_accuracy=knn(TestAlpha24,TrainAlpha24,test_label2,train_label2)\n",
        "print(\"Alpha 4 Accuracy\",Alpha24_accuracy)\n",
        "print()\n",
        "accuracy_2=np.array([np.max(Alpha21_accuracy),np.max(Alpha22_accuracy),np.max(Alpha23_accuracy),np.max(Alpha24_accuracy)])\n",
        "print (\"max accuracy for each alpha\",accuracy_2)\n",
        "accuracy_2_best=np.array(np.max(accuracy_2))\n",
        "print (\"best accuracy for first case:\",accuracy_2_best)"
      ],
      "execution_count": null,
      "outputs": [
        {
          "output_type": "stream",
          "name": "stdout",
          "text": [
            "accuracy for 200 faces 350 non faces\n",
            "Alpha 1 Accuracy [0.944 0.904 0.84  0.788]\n",
            "Alpha 2 Accuracy [0.944 0.904 0.84  0.788]\n",
            "Alpha 3 Accuracy [0.944 0.904 0.84  0.788]\n",
            "Alpha 4 Accuracy [0.944 0.904 0.84  0.788]\n",
            "\n",
            "max accuracy for each alpha [0.944 0.944 0.944 0.944]\n",
            "best accuracy for first case: 0.944\n"
          ]
        }
      ]
    },
    {
      "cell_type": "code",
      "metadata": {
        "colab": {
          "base_uri": "https://localhost:8080/"
        },
        "id": "9zusmd_ozcE-",
        "outputId": "9d430c2f-cdda-43e1-fccb-3fc8cfa6d3b1"
      },
      "source": [
        "print(\"accuracy for 200 faces 400 non faces\")\n",
        "Alpha31_ErrorRate,Alpha31_accuracy=knn(TestAlpha31,TrainAlpha31,test_label3,train_label3)\n",
        "print(\"Alpha 1 Accuracy\",Alpha31_accuracy)\n",
        "Alpha32_ErrorRate,Alpha32_accuracy=knn(TestAlpha32,TrainAlpha32,test_label3,train_label3)\n",
        "print(\"Alpha 2 Accuracy\",Alpha32_accuracy)\n",
        "Alpha33_ErrorRate,Alpha33_accuracy=knn(TestAlpha33,TrainAlpha33,test_label3,train_label3)\n",
        "print(\"Alpha 3 Accuracy\",Alpha33_accuracy)\n",
        "Alpha34_ErrorRate,Alpha34_accuracy=knn(TestAlpha34,TrainAlpha34,test_label3,train_label3)\n",
        "print(\"Alpha 4 Accuracy\",Alpha34_accuracy)\n",
        "accuracy_3=np.array([np.max(Alpha31_accuracy),np.max(Alpha32_accuracy),np.max(Alpha33_accuracy),np.max(Alpha34_accuracy)])\n",
        "print (\"max accuracy for each alpha\",accuracy_3)\n",
        "accuracy_3_best=np.array(np.max(accuracy_3))\n",
        "print (\"best accuracy for first case:\",accuracy_3_best)"
      ],
      "execution_count": null,
      "outputs": [
        {
          "output_type": "stream",
          "name": "stdout",
          "text": [
            "accuracy for 200 faces 400 non faces\n",
            "Alpha 1 Accuracy [0.94       0.93       0.87       0.84666667]\n",
            "Alpha 2 Accuracy [0.95666667 0.92333333 0.86666667 0.83      ]\n",
            "Alpha 3 Accuracy [0.95666667 0.92333333 0.86666667 0.83      ]\n",
            "Alpha 4 Accuracy [0.95666667 0.92333333 0.86666667 0.83      ]\n",
            "max accuracy for each alpha [0.94       0.95666667 0.95666667 0.95666667]\n",
            "best accuracy for first case: 0.9566666666666667\n"
          ]
        }
      ]
    },
    {
      "cell_type": "code",
      "metadata": {
        "colab": {
          "base_uri": "https://localhost:8080/",
          "height": 308
        },
        "id": "W0fPOYLlG88k",
        "outputId": "0af05c25-db28-46c3-fd52-397cad55d2b7"
      },
      "source": [
        "fig, axs = plt.subplots(3)\n",
        "axs[0].plot(k_values,Alpha11_ErrorRate,color='blue', linestyle='dashed', marker='o',\n",
        "        markerfacecolor='red', markersize=10)\n",
        "axs[0].plot(k_values,Alpha12_ErrorRate,color='red', linestyle='dashed', marker='o',\n",
        "        markerfacecolor='red', markersize=10)\n",
        "axs[0].plot(k_values,Alpha13_ErrorRate,color='yellow', linestyle='dashed', marker='o',\n",
        "        markerfacecolor='red', markersize=10)\n",
        "axs[0].plot(k_values,Alpha14_ErrorRate,color='green', linestyle='dashed', marker='o',\n",
        "        markerfacecolor='red', markersize=10)\n",
        "# axs[0, 0].set_title('Axis [0, 0]')\n",
        "axs[1].plot(k_values,Alpha21_ErrorRate,color='blue', linestyle='dashed', marker='o',\n",
        "        markerfacecolor='red', markersize=10)\n",
        "axs[1].plot(k_values,Alpha22_ErrorRate,color='red', linestyle='dashed', marker='o',\n",
        "        markerfacecolor='red', markersize=10)\n",
        "axs[1].plot(k_values,Alpha23_ErrorRate,color='yellow', linestyle='dashed', marker='o',\n",
        "        markerfacecolor='red', markersize=10)\n",
        "axs[1].plot(k_values,Alpha24_ErrorRate,color='green', linestyle='dashed', marker='o',\n",
        "        markerfacecolor='red', markersize=10)\n",
        "# axs[0, 1].set_title('Axis [0, 1]')\n",
        "axs[2].plot(k_values,Alpha31_ErrorRate,color='blue', linestyle='dashed', marker='o',\n",
        "        markerfacecolor='red', markersize=10)\n",
        "axs[2].plot(k_values,Alpha32_ErrorRate,color='red', linestyle='dashed', marker='o',\n",
        "        markerfacecolor='red', markersize=10)\n",
        "axs[2].plot(k_values,Alpha33_ErrorRate,color='yellow', linestyle='dashed', marker='o',\n",
        "        markerfacecolor='red', markersize=10)\n",
        "axs[2].plot(k_values,Alpha34_ErrorRate,color='green', linestyle='dashed', marker='o',\n",
        "        markerfacecolor='red', markersize=10)\n",
        "fig.suptitle('Error Rate vs. K Value')\n",
        "for ax in axs.flat:\n",
        "    ax.set(xlabel='K', ylabel='Error Rate')\n",
        "\n",
        "# Hide x labels and tick labels for top plots and y ticks for right plots.\n",
        "for ax in axs.flat:\n",
        "    ax.label_outer()"
      ],
      "execution_count": null,
      "outputs": [
        {
          "output_type": "display_data",
          "data": {
            "image/png": "[encoded data removed]",
            "text/plain": [
              "<Figure size 432x288 with 3 Axes>"
            ]
          },
          "metadata": {
            "needs_background": "light"
          }
        }
      ]
    },
    {
      "cell_type": "code",
      "metadata": {
        "colab": {
          "base_uri": "https://localhost:8080/",
          "height": 308
        },
        "id": "FSQCDmL1MnNd",
        "outputId": "a6404dff-2ba8-4e5b-bb52-ad46c54a4b58"
      },
      "source": [
        "# accuracy vs per alpha values\n",
        "fig, axs = plt.subplots(3)\n",
        "axs[0].plot([0.8,0.85,0.9,0.95],Alpha11_accuracy,color='blue', linestyle='dashed', marker='o',\n",
        "        markerfacecolor='red', markersize=10)\n",
        "axs[1].plot([0.8,0.85,0.9,0.95],Alpha21_accuracy,color='red', linestyle='dashed', marker='o',\n",
        "        markerfacecolor='red', markersize=10)\n",
        "axs[2].plot([0.8,0.85,0.9,0.95],Alpha31_accuracy,color='yellow', linestyle='dashed', marker='o',\n",
        "        markerfacecolor='red', markersize=10)\n",
        "fig.suptitle('Alpha1 vs. Accuracy')\n",
        "for ax in axs.flat:\n",
        "    ax.set(xlabel='Alpha1', ylabel='Accuracy')\n",
        "\n",
        "# Hide x labels and tick labels for top plots and y ticks for right plots.\n",
        "for ax in axs.flat:\n",
        "    ax.label_outer()\n"
      ],
      "execution_count": null,
      "outputs": [
        {
          "output_type": "display_data",
          "data": {
            "image/png": "[encoded data removed]",
            "text/plain": [
              "<Figure size 432x288 with 3 Axes>"
            ]
          },
          "metadata": {
            "needs_background": "light"
          }
        }
      ]
    },
    {
      "cell_type": "code",
      "metadata": {
        "colab": {
          "base_uri": "https://localhost:8080/",
          "height": 312
        },
        "id": "FMJghi3PVQir",
        "outputId": "08f6665f-a22e-4fc8-ad7b-7d8f12f4cbba"
      },
      "source": [
        "# number of nonfaces vs accurcay \n",
        "plt.plot([200,350,400],[accuracy_1_best,accuracy_2_best,accuracy_3_best],color='blue', linestyle='dashed', marker='o',\n",
        "         markerfacecolor='red', markersize=10)\n",
        "plt.title('no. of nonfaces vs. Accuracy')\n",
        "plt.xlabel('no. of nonfaces ')\n",
        "plt.ylabel('Accuracy')\n",
        "plt.show\n"
      ],
      "execution_count": null,
      "outputs": [
        {
          "output_type": "execute_result",
          "data": {
            "text/plain": [
              "<function matplotlib.pyplot.show>"
            ]
          },
          "metadata": {},
          "execution_count": 18
        },
        {
          "output_type": "display_data",
          "data": {
            "image/png": "[encoded data removed]",
            "text/plain": [
              "<Figure size 432x288 with 1 Axes>"
            ]
          },
          "metadata": {
            "needs_background": "light"
          }
        }
      ]
    }
  ]
}